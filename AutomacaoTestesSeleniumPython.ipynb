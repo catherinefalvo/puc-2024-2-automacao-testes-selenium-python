{
  "nbformat": 4,
  "nbformat_minor": 0,
  "metadata": {
    "colab": {
      "provenance": [],
      "authorship_tag": "ABX9TyOXtv/aAPwsG6BnXZM64J0v",
      "include_colab_link": true
    },
    "kernelspec": {
      "name": "python3",
      "display_name": "Python 3"
    },
    "language_info": {
      "name": "python"
    }
  },
  "cells": [
    {
      "cell_type": "markdown",
      "metadata": {
        "id": "view-in-github",
        "colab_type": "text"
      },
      "source": [
        "<a href=\"https://colab.research.google.com/github/catherinefalvo/puc-2024-2-automacao-testes-selenium-python/blob/main/AutomacaoTestesSeleniumPython.ipynb\" target=\"_parent\"><img src=\"https://colab.research.google.com/assets/colab-badge.svg\" alt=\"Open In Colab\"/></a>"
      ]
    },
    {
      "cell_type": "markdown",
      "source": [
        "# Instalação do Selenium no Google Colab"
      ],
      "metadata": {
        "id": "y9toP3Qq9rcI"
      }
    },
    {
      "cell_type": "code",
      "execution_count": 49,
      "metadata": {
        "colab": {
          "base_uri": "https://localhost:8080/"
        },
        "id": "qPYDHRLX9UMS",
        "outputId": "b112c644-2e86-4080-a104-2fcead8f28a5"
      },
      "outputs": [
        {
          "output_type": "stream",
          "name": "stdout",
          "text": [
            "Requirement already satisfied: selenium in /usr/local/lib/python3.10/dist-packages (4.26.1)\n",
            "Requirement already satisfied: urllib3<3,>=1.26 in /usr/local/lib/python3.10/dist-packages (from urllib3[socks]<3,>=1.26->selenium) (2.2.3)\n",
            "Requirement already satisfied: trio~=0.17 in /usr/local/lib/python3.10/dist-packages (from selenium) (0.27.0)\n",
            "Requirement already satisfied: trio-websocket~=0.9 in /usr/local/lib/python3.10/dist-packages (from selenium) (0.11.1)\n",
            "Requirement already satisfied: certifi>=2021.10.8 in /usr/local/lib/python3.10/dist-packages (from selenium) (2024.8.30)\n",
            "Requirement already satisfied: typing_extensions~=4.9 in /usr/local/lib/python3.10/dist-packages (from selenium) (4.12.2)\n",
            "Requirement already satisfied: websocket-client~=1.8 in /usr/local/lib/python3.10/dist-packages (from selenium) (1.8.0)\n",
            "Requirement already satisfied: attrs>=23.2.0 in /usr/local/lib/python3.10/dist-packages (from trio~=0.17->selenium) (24.2.0)\n",
            "Requirement already satisfied: sortedcontainers in /usr/local/lib/python3.10/dist-packages (from trio~=0.17->selenium) (2.4.0)\n",
            "Requirement already satisfied: idna in /usr/local/lib/python3.10/dist-packages (from trio~=0.17->selenium) (3.10)\n",
            "Requirement already satisfied: outcome in /usr/local/lib/python3.10/dist-packages (from trio~=0.17->selenium) (1.3.0.post0)\n",
            "Requirement already satisfied: sniffio>=1.3.0 in /usr/local/lib/python3.10/dist-packages (from trio~=0.17->selenium) (1.3.1)\n",
            "Requirement already satisfied: exceptiongroup in /usr/local/lib/python3.10/dist-packages (from trio~=0.17->selenium) (1.2.2)\n",
            "Requirement already satisfied: wsproto>=0.14 in /usr/local/lib/python3.10/dist-packages (from trio-websocket~=0.9->selenium) (1.2.0)\n",
            "Requirement already satisfied: pysocks!=1.5.7,<2.0,>=1.5.6 in /usr/local/lib/python3.10/dist-packages (from urllib3[socks]<3,>=1.26->selenium) (1.7.1)\n",
            "Requirement already satisfied: h11<1,>=0.9.0 in /usr/local/lib/python3.10/dist-packages (from wsproto>=0.14->trio-websocket~=0.9->selenium) (0.14.0)\n"
          ]
        }
      ],
      "source": [
        "# Instala o Selenium\n",
        "!pip install selenium"
      ]
    },
    {
      "cell_type": "markdown",
      "source": [
        "# Configuração do WebDriver e Acesso ao Arquivo HTML (GitHub Pages)"
      ],
      "metadata": {
        "id": "Xu1N8Urq-x8N"
      }
    },
    {
      "cell_type": "code",
      "source": [
        "from selenium import webdriver\n",
        "from selenium.webdriver.chrome.options import Options\n",
        "\n",
        "# URL do arquivo HTML hospedado no GitHub Pages\n",
        "URL = \"https://catherinefalvo.github.io/puc-2024-2-automacao-testes-selenium-python/sample-exercise.html\"\n",
        "\n",
        "# Configuração do Chrome para execução em modo headless (sem interface gráfica)\n",
        "options = webdriver.ChromeOptions()\n",
        "options.add_argument(\"--headless\")  # Executa o navegador sem abrir uma janela\n",
        "options.add_argument(\"--disable-dev-shm-usage\")  # Evita o uso excessivo de /dev/shm no Colab\n",
        "options.add_argument(\"--no-sandbox\")  # Desativa o sandboxing para maior compatibilidade no Colab\n",
        "\n",
        "# Inicializa o driver do Chrome com as opções configuradas\n",
        "driver = webdriver.Chrome(options=options)\n",
        "\n",
        "# Carrega a página da URL especificada\n",
        "driver.get(URL)\n"
      ],
      "metadata": {
        "id": "JkPKIiQR-yOH"
      },
      "execution_count": 51,
      "outputs": []
    },
    {
      "cell_type": "markdown",
      "source": [
        "# Interação com Elementos e Automação da Tarefa"
      ],
      "metadata": {
        "id": "C6yjz5c9_AGB"
      }
    },
    {
      "cell_type": "code",
      "source": [
        "from selenium.webdriver.common.by import By\n",
        "from selenium.webdriver.common.alert import Alert\n",
        "import time\n",
        "\n",
        "# Passo 1: Clica no botão \"generate\" para gerar um código aleatório\n",
        "generate_button = driver.find_element(By.NAME, \"generate\")\n",
        "generate_button.click()\n",
        "\n",
        "# Passo 2: Aguarda 5 segundos para que o código seja gerado (pode demorar até 4 segundos no JavaScript)\n",
        "time.sleep(5)\n",
        "\n",
        "# Captura o código gerado que aparece no elemento com ID \"my-value\"\n",
        "generated_code = driver.find_element(By.ID, \"my-value\").text\n",
        "print(\"Código gerado:\", generated_code)\n",
        "\n",
        "# Passo 3: Preenche o campo de texto com o código gerado\n",
        "input_field = driver.find_element(By.ID, \"input\")\n",
        "input_field.clear()  # Limpa o campo de texto antes de inserir o novo valor\n",
        "input_field.send_keys(generated_code)  # Insere o código gerado no campo\n",
        "\n",
        "# Passo 4: Clica no botão \"test\"\n",
        "test_button = driver.find_element(By.NAME, \"button\")\n",
        "test_button.click()\n",
        "\n",
        "# Passo 5: Lida com o alerta que é exibido após o clique no botão \"test\"\n",
        "alert = Alert(driver)\n",
        "alert.accept()  # Fecha o alerta clicando em \"OK\"\n",
        "\n",
        "# Passo 6: Captura e verifica a mensagem final exibida\n",
        "result_text = driver.find_element(By.ID, \"result\").text\n",
        "expected_text = f\"It workls! {generated_code}!\"\n",
        "\n",
        "# Verifica se a mensagem capturada corresponde ao valor esperado\n",
        "if result_text == expected_text:\n",
        "    print(\"Sucesso!\")\n",
        "else:\n",
        "    print(f\"Erro! A mensagem exibida foi '{result_text}', mas o esperado era '{expected_text}'\")\n",
        "\n",
        "# Encerra o navegador\n",
        "driver.quit()\n"
      ],
      "metadata": {
        "colab": {
          "base_uri": "https://localhost:8080/"
        },
        "id": "QHktSTxN_Aoo",
        "outputId": "17efb9b4-1e5e-4d80-e0f1-93c9dff5479d"
      },
      "execution_count": 52,
      "outputs": [
        {
          "output_type": "stream",
          "name": "stdout",
          "text": [
            "Código gerado: ejvg7i\n",
            "Sucesso!\n"
          ]
        }
      ]
    }
  ]
}